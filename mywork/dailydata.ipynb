{
 "cells": [
  {
   "cell_type": "markdown",
   "metadata": {
    "tags": [
     "remove_input"
    ]
   },
   "source": [
    "# A股市场总体PE\n",
    "\n",
    "现在免费的数据集越来越不稳定了。东财的每日行情还可以使用。"
   ]
  },
  {
   "cell_type": "code",
   "execution_count": 2,
   "metadata": {
    "tags": [
     "remove_input"
    ]
   },
   "outputs": [],
   "source": [
    "import pandas as pd\n",
    "import akshare as ak\n",
    "from jinja2 import Environment, FileSystemLoader\n",
    "from IPython.display import HTML"
   ]
  },
  {
   "cell_type": "code",
   "execution_count": 4,
   "metadata": {
    "tags": [
     "remove_input"
    ]
   },
   "outputs": [],
   "source": [
    "def print_card(data:dict):\n",
    "    env = Environment(loader=FileSystemLoader('.'))\n",
    "    temp = env.get_template('diccard.html')\n",
    "    out = temp.render(dict_data = data)\n",
    "    display(HTML(out))"
   ]
  },
  {
   "cell_type": "code",
   "execution_count": 5,
   "metadata": {
    "tags": [
     "remove_input"
    ]
   },
   "outputs": [],
   "source": [
    "def tidy():\n",
    "    df = ak.stock_zh_a_spot_em()\n",
    "    sel = df[['代码', '名称', '最新价', '市盈率-动态', '市净率', '总市值','年初至今涨跌幅']]\n",
    "    sel.columns = ['code', 'name', 'price', 'pe', 'pb', 'mv','inc']\n",
    "    sel = sel[~sel['price'].isna()]\n",
    "    sel['profit'] = sel['mv'] / sel['pe']\n",
    "    sel['asset'] = sel['mv'] / sel['pb']\n",
    "\n",
    "    return sel"
   ]
  },
  {
   "cell_type": "code",
   "execution_count": 6,
   "metadata": {
    "tags": [
     "remove_input"
    ]
   },
   "outputs": [],
   "source": [
    "df = tidy()"
   ]
  },
  {
   "cell_type": "code",
   "execution_count": 7,
   "metadata": {
    "tags": [
     "remove_input"
    ]
   },
   "outputs": [],
   "source": [
    "def get_pe(df):\n",
    "    res = {}\n",
    "    total_mv = df['mv'].sum()\n",
    "    total_profit =df['profit'].sum()\n",
    "    res['总市值'] = f'{round(total_mv / 1000000000000, 2)}万亿'\n",
    "    res['总利润'] = f'{round(total_profit / 1000000000000, 2)}万亿'\n",
    "    res['市场PE'] = round(total_mv / total_profit, 2)\n",
    "    return(res)"
   ]
  },
  {
   "cell_type": "markdown",
   "metadata": {
    "tags": [
     "remove_input"
    ]
   },
   "source": [
    "## 市场总体PE"
   ]
  },
  {
   "cell_type": "code",
   "execution_count": 8,
   "metadata": {
    "tags": [
     "remove_input"
    ]
   },
   "outputs": [
    {
     "data": {
      "text/html": [
       "<!DOCTYPE html>\n",
       "<html lang=\"en\">\n",
       "<head>\n",
       "    <style>\n",
       "        .card_group {\n",
       "          display: flex;\n",
       "          flex-wrap: wrap;\n",
       "          justify-content: center;\n",
       "          text-align: center;\n",
       "        }\n",
       "  \n",
       "        .card {\n",
       "          display: flex;\n",
       "          flex-direction: column;\n",
       "          justify-content: flex-start;\n",
       "          align-items: center;\n",
       "          background: #fff;\n",
       "          border-radius: 10px;\n",
       "          margin: 0.5rem;\n",
       "          width: 160px;\n",
       "          box-shadow: 0 3px 6px rgba(0, 0, 0, 0.12), 0 3px 6px rgba(0, 0, 0, 0.24);\n",
       "          padding: 6px;\n",
       "          box-sizing: border-box;\n",
       "          overflow: hidden;\n",
       "        }\n",
       "        .card_item {\n",
       "          border-bottom: 1px dotted grey;\n",
       "          margin: 5px 0;\n",
       "          padding: 5px;\n",
       "          font-size: 1em;\n",
       "        }\n",
       "        .card_big {\n",
       "          border-bottom: 1px dotted grey;\n",
       "          margin: 5px 0;\n",
       "          padding: 5px;\n",
       "          font-size: 2em;\n",
       "        }\n",
       "        .card_huge {\n",
       "          border-bottom: 1px dotted grey;\n",
       "          margin: 5px 0;\n",
       "          padding: 5px;\n",
       "          font-size: 4em;\n",
       "        }\n",
       "        .card_title {\n",
       "          border-bottom: 1px dotted grey;\n",
       "          margin: 5px 0;\n",
       "          padding: 5px;\n",
       "          font-size: 1em;\n",
       "          font-weight: bold;\n",
       "        }\n",
       "        .card_content {\n",
       "          font-size: 1em;\n",
       "          margin: 5px;\n",
       "          align-self: center;\n",
       "          display: flex;\n",
       "          align-items: center;\n",
       "          justify-content: center;\n",
       "          justify-items: center;\n",
       "        }\n",
       "      </style>\n",
       "</head>\n",
       "<body>\n",
       "    <div class=\"card_group\">\n",
       "        \n",
       "        <div class=\"card\">\n",
       "            <div class=\"card_title\">\n",
       "                总市值\n",
       "            </div>\n",
       "            <div class=\"card_big\">\n",
       "              98.4万亿\n",
       "            </div>\n",
       "        </div>\n",
       "        \n",
       "        <div class=\"card\">\n",
       "            <div class=\"card_title\">\n",
       "                总利润\n",
       "            </div>\n",
       "            <div class=\"card_big\">\n",
       "              5.89万亿\n",
       "            </div>\n",
       "        </div>\n",
       "        \n",
       "        <div class=\"card\">\n",
       "            <div class=\"card_title\">\n",
       "                市场PE\n",
       "            </div>\n",
       "            <div class=\"card_big\">\n",
       "              16.69\n",
       "            </div>\n",
       "        </div>\n",
       "        \n",
       "    </div>\n",
       "    \n",
       "</body>\n",
       "</html>"
      ],
      "text/plain": [
       "<IPython.core.display.HTML object>"
      ]
     },
     "metadata": {},
     "output_type": "display_data"
    }
   ],
   "source": [
    "print_card(get_pe(df))"
   ]
  },
  {
   "cell_type": "code",
   "execution_count": 9,
   "metadata": {
    "tags": [
     "remove_input"
    ]
   },
   "outputs": [],
   "source": [
    "def get_bins(df:pd.DataFrame, n:int=5, col:str = 'profit'):\n",
    "    mbins = pd.qcut(df[col], q=int(100/n), duplicates='drop')\n",
    "    bin_sums = df.groupby(mbins, observed=True)[col].sum()\n",
    "    total_sum = df[col].sum()\n",
    "    bin_pct = bin_sums / total_sum\n",
    "    cum_sums = bin_sums.cumsum()\n",
    "    cum_pct = cum_sums / total_sum\n",
    "    res = pd.DataFrame({\n",
    "        'bin': bin_sums.values,\n",
    "        'sum': bin_sums.values,\n",
    "        'pct': bin_pct.values,\n",
    "        'cum': cum_sums.values,\n",
    "        'cum_pct': cum_pct.values\n",
    "    })\n",
    "    res.index = [i/100 for i in range(n, 101, n)]\n",
    "    return res"
   ]
  },
  {
   "cell_type": "code",
   "execution_count": 11,
   "metadata": {
    "tags": [
     "remove_input"
    ]
   },
   "outputs": [],
   "source": [
    "def de_bank(df:pd.DataFrame, kws):\n",
    "    key_df = df[df['name'].str.contains('|'.join(kws))]\n",
    "    display(f'名称中包含[{','.join(kws)}]的PE情况')\n",
    "    print_card(get_pe(key_df))\n",
    "    non_key = df[~df['name'].str.contains('|'.join(kws))]\n",
    "    display('剔除上述股后PE情况')\n",
    "    print_card(get_pe(non_key))\n",
    "    return non_key"
   ]
  },
  {
   "cell_type": "code",
   "execution_count": 12,
   "metadata": {
    "tags": [
     "remove_input"
    ]
   },
   "outputs": [
    {
     "data": {
      "text/plain": [
       "'名称中包含[银行,商行]的PE情况'"
      ]
     },
     "metadata": {},
     "output_type": "display_data"
    },
    {
     "data": {
      "text/html": [
       "<!DOCTYPE html>\n",
       "<html lang=\"en\">\n",
       "<head>\n",
       "    <style>\n",
       "        .card_group {\n",
       "          display: flex;\n",
       "          flex-wrap: wrap;\n",
       "          justify-content: center;\n",
       "          text-align: center;\n",
       "        }\n",
       "  \n",
       "        .card {\n",
       "          display: flex;\n",
       "          flex-direction: column;\n",
       "          justify-content: flex-start;\n",
       "          align-items: center;\n",
       "          background: #fff;\n",
       "          border-radius: 10px;\n",
       "          margin: 0.5rem;\n",
       "          width: 160px;\n",
       "          box-shadow: 0 3px 6px rgba(0, 0, 0, 0.12), 0 3px 6px rgba(0, 0, 0, 0.24);\n",
       "          padding: 6px;\n",
       "          box-sizing: border-box;\n",
       "          overflow: hidden;\n",
       "        }\n",
       "        .card_item {\n",
       "          border-bottom: 1px dotted grey;\n",
       "          margin: 5px 0;\n",
       "          padding: 5px;\n",
       "          font-size: 1em;\n",
       "        }\n",
       "        .card_big {\n",
       "          border-bottom: 1px dotted grey;\n",
       "          margin: 5px 0;\n",
       "          padding: 5px;\n",
       "          font-size: 2em;\n",
       "        }\n",
       "        .card_huge {\n",
       "          border-bottom: 1px dotted grey;\n",
       "          margin: 5px 0;\n",
       "          padding: 5px;\n",
       "          font-size: 4em;\n",
       "        }\n",
       "        .card_title {\n",
       "          border-bottom: 1px dotted grey;\n",
       "          margin: 5px 0;\n",
       "          padding: 5px;\n",
       "          font-size: 1em;\n",
       "          font-weight: bold;\n",
       "        }\n",
       "        .card_content {\n",
       "          font-size: 1em;\n",
       "          margin: 5px;\n",
       "          align-self: center;\n",
       "          display: flex;\n",
       "          align-items: center;\n",
       "          justify-content: center;\n",
       "          justify-items: center;\n",
       "        }\n",
       "      </style>\n",
       "</head>\n",
       "<body>\n",
       "    <div class=\"card_group\">\n",
       "        \n",
       "        <div class=\"card\">\n",
       "            <div class=\"card_title\">\n",
       "                总市值\n",
       "            </div>\n",
       "            <div class=\"card_big\">\n",
       "              12.28万亿\n",
       "            </div>\n",
       "        </div>\n",
       "        \n",
       "        <div class=\"card\">\n",
       "            <div class=\"card_title\">\n",
       "                总利润\n",
       "            </div>\n",
       "            <div class=\"card_big\">\n",
       "              2.21万亿\n",
       "            </div>\n",
       "        </div>\n",
       "        \n",
       "        <div class=\"card\">\n",
       "            <div class=\"card_title\">\n",
       "                市场PE\n",
       "            </div>\n",
       "            <div class=\"card_big\">\n",
       "              5.56\n",
       "            </div>\n",
       "        </div>\n",
       "        \n",
       "    </div>\n",
       "    \n",
       "</body>\n",
       "</html>"
      ],
      "text/plain": [
       "<IPython.core.display.HTML object>"
      ]
     },
     "metadata": {},
     "output_type": "display_data"
    },
    {
     "data": {
      "text/plain": [
       "'剔除上述股后PE情况'"
      ]
     },
     "metadata": {},
     "output_type": "display_data"
    },
    {
     "data": {
      "text/html": [
       "<!DOCTYPE html>\n",
       "<html lang=\"en\">\n",
       "<head>\n",
       "    <style>\n",
       "        .card_group {\n",
       "          display: flex;\n",
       "          flex-wrap: wrap;\n",
       "          justify-content: center;\n",
       "          text-align: center;\n",
       "        }\n",
       "  \n",
       "        .card {\n",
       "          display: flex;\n",
       "          flex-direction: column;\n",
       "          justify-content: flex-start;\n",
       "          align-items: center;\n",
       "          background: #fff;\n",
       "          border-radius: 10px;\n",
       "          margin: 0.5rem;\n",
       "          width: 160px;\n",
       "          box-shadow: 0 3px 6px rgba(0, 0, 0, 0.12), 0 3px 6px rgba(0, 0, 0, 0.24);\n",
       "          padding: 6px;\n",
       "          box-sizing: border-box;\n",
       "          overflow: hidden;\n",
       "        }\n",
       "        .card_item {\n",
       "          border-bottom: 1px dotted grey;\n",
       "          margin: 5px 0;\n",
       "          padding: 5px;\n",
       "          font-size: 1em;\n",
       "        }\n",
       "        .card_big {\n",
       "          border-bottom: 1px dotted grey;\n",
       "          margin: 5px 0;\n",
       "          padding: 5px;\n",
       "          font-size: 2em;\n",
       "        }\n",
       "        .card_huge {\n",
       "          border-bottom: 1px dotted grey;\n",
       "          margin: 5px 0;\n",
       "          padding: 5px;\n",
       "          font-size: 4em;\n",
       "        }\n",
       "        .card_title {\n",
       "          border-bottom: 1px dotted grey;\n",
       "          margin: 5px 0;\n",
       "          padding: 5px;\n",
       "          font-size: 1em;\n",
       "          font-weight: bold;\n",
       "        }\n",
       "        .card_content {\n",
       "          font-size: 1em;\n",
       "          margin: 5px;\n",
       "          align-self: center;\n",
       "          display: flex;\n",
       "          align-items: center;\n",
       "          justify-content: center;\n",
       "          justify-items: center;\n",
       "        }\n",
       "      </style>\n",
       "</head>\n",
       "<body>\n",
       "    <div class=\"card_group\">\n",
       "        \n",
       "        <div class=\"card\">\n",
       "            <div class=\"card_title\">\n",
       "                总市值\n",
       "            </div>\n",
       "            <div class=\"card_big\">\n",
       "              86.11万亿\n",
       "            </div>\n",
       "        </div>\n",
       "        \n",
       "        <div class=\"card\">\n",
       "            <div class=\"card_title\">\n",
       "                总利润\n",
       "            </div>\n",
       "            <div class=\"card_big\">\n",
       "              3.68万亿\n",
       "            </div>\n",
       "        </div>\n",
       "        \n",
       "        <div class=\"card\">\n",
       "            <div class=\"card_title\">\n",
       "                市场PE\n",
       "            </div>\n",
       "            <div class=\"card_big\">\n",
       "              23.37\n",
       "            </div>\n",
       "        </div>\n",
       "        \n",
       "    </div>\n",
       "    \n",
       "</body>\n",
       "</html>"
      ],
      "text/plain": [
       "<IPython.core.display.HTML object>"
      ]
     },
     "metadata": {},
     "output_type": "display_data"
    }
   ],
   "source": [
    "banks = ['银行', '商行']\n",
    "no_banks = de_bank(df, banks)"
   ]
  },
  {
   "cell_type": "code",
   "execution_count": 13,
   "metadata": {
    "tags": [
     "remove_input"
    ]
   },
   "outputs": [
    {
     "data": {
      "text/plain": [
       "'名称中包含[银行,商行,保险,太保,人保,证券,平安,中信]的PE情况'"
      ]
     },
     "metadata": {},
     "output_type": "display_data"
    },
    {
     "data": {
      "text/html": [
       "<!DOCTYPE html>\n",
       "<html lang=\"en\">\n",
       "<head>\n",
       "    <style>\n",
       "        .card_group {\n",
       "          display: flex;\n",
       "          flex-wrap: wrap;\n",
       "          justify-content: center;\n",
       "          text-align: center;\n",
       "        }\n",
       "  \n",
       "        .card {\n",
       "          display: flex;\n",
       "          flex-direction: column;\n",
       "          justify-content: flex-start;\n",
       "          align-items: center;\n",
       "          background: #fff;\n",
       "          border-radius: 10px;\n",
       "          margin: 0.5rem;\n",
       "          width: 160px;\n",
       "          box-shadow: 0 3px 6px rgba(0, 0, 0, 0.12), 0 3px 6px rgba(0, 0, 0, 0.24);\n",
       "          padding: 6px;\n",
       "          box-sizing: border-box;\n",
       "          overflow: hidden;\n",
       "        }\n",
       "        .card_item {\n",
       "          border-bottom: 1px dotted grey;\n",
       "          margin: 5px 0;\n",
       "          padding: 5px;\n",
       "          font-size: 1em;\n",
       "        }\n",
       "        .card_big {\n",
       "          border-bottom: 1px dotted grey;\n",
       "          margin: 5px 0;\n",
       "          padding: 5px;\n",
       "          font-size: 2em;\n",
       "        }\n",
       "        .card_huge {\n",
       "          border-bottom: 1px dotted grey;\n",
       "          margin: 5px 0;\n",
       "          padding: 5px;\n",
       "          font-size: 4em;\n",
       "        }\n",
       "        .card_title {\n",
       "          border-bottom: 1px dotted grey;\n",
       "          margin: 5px 0;\n",
       "          padding: 5px;\n",
       "          font-size: 1em;\n",
       "          font-weight: bold;\n",
       "        }\n",
       "        .card_content {\n",
       "          font-size: 1em;\n",
       "          margin: 5px;\n",
       "          align-self: center;\n",
       "          display: flex;\n",
       "          align-items: center;\n",
       "          justify-content: center;\n",
       "          justify-items: center;\n",
       "        }\n",
       "      </style>\n",
       "</head>\n",
       "<body>\n",
       "    <div class=\"card_group\">\n",
       "        \n",
       "        <div class=\"card\">\n",
       "            <div class=\"card_title\">\n",
       "                总市值\n",
       "            </div>\n",
       "            <div class=\"card_big\">\n",
       "              16.97万亿\n",
       "            </div>\n",
       "        </div>\n",
       "        \n",
       "        <div class=\"card\">\n",
       "            <div class=\"card_title\">\n",
       "                总利润\n",
       "            </div>\n",
       "            <div class=\"card_big\">\n",
       "              2.61万亿\n",
       "            </div>\n",
       "        </div>\n",
       "        \n",
       "        <div class=\"card\">\n",
       "            <div class=\"card_title\">\n",
       "                市场PE\n",
       "            </div>\n",
       "            <div class=\"card_big\">\n",
       "              6.5\n",
       "            </div>\n",
       "        </div>\n",
       "        \n",
       "    </div>\n",
       "    \n",
       "</body>\n",
       "</html>"
      ],
      "text/plain": [
       "<IPython.core.display.HTML object>"
      ]
     },
     "metadata": {},
     "output_type": "display_data"
    },
    {
     "data": {
      "text/plain": [
       "'剔除上述股后PE情况'"
      ]
     },
     "metadata": {},
     "output_type": "display_data"
    },
    {
     "data": {
      "text/html": [
       "<!DOCTYPE html>\n",
       "<html lang=\"en\">\n",
       "<head>\n",
       "    <style>\n",
       "        .card_group {\n",
       "          display: flex;\n",
       "          flex-wrap: wrap;\n",
       "          justify-content: center;\n",
       "          text-align: center;\n",
       "        }\n",
       "  \n",
       "        .card {\n",
       "          display: flex;\n",
       "          flex-direction: column;\n",
       "          justify-content: flex-start;\n",
       "          align-items: center;\n",
       "          background: #fff;\n",
       "          border-radius: 10px;\n",
       "          margin: 0.5rem;\n",
       "          width: 160px;\n",
       "          box-shadow: 0 3px 6px rgba(0, 0, 0, 0.12), 0 3px 6px rgba(0, 0, 0, 0.24);\n",
       "          padding: 6px;\n",
       "          box-sizing: border-box;\n",
       "          overflow: hidden;\n",
       "        }\n",
       "        .card_item {\n",
       "          border-bottom: 1px dotted grey;\n",
       "          margin: 5px 0;\n",
       "          padding: 5px;\n",
       "          font-size: 1em;\n",
       "        }\n",
       "        .card_big {\n",
       "          border-bottom: 1px dotted grey;\n",
       "          margin: 5px 0;\n",
       "          padding: 5px;\n",
       "          font-size: 2em;\n",
       "        }\n",
       "        .card_huge {\n",
       "          border-bottom: 1px dotted grey;\n",
       "          margin: 5px 0;\n",
       "          padding: 5px;\n",
       "          font-size: 4em;\n",
       "        }\n",
       "        .card_title {\n",
       "          border-bottom: 1px dotted grey;\n",
       "          margin: 5px 0;\n",
       "          padding: 5px;\n",
       "          font-size: 1em;\n",
       "          font-weight: bold;\n",
       "        }\n",
       "        .card_content {\n",
       "          font-size: 1em;\n",
       "          margin: 5px;\n",
       "          align-self: center;\n",
       "          display: flex;\n",
       "          align-items: center;\n",
       "          justify-content: center;\n",
       "          justify-items: center;\n",
       "        }\n",
       "      </style>\n",
       "</head>\n",
       "<body>\n",
       "    <div class=\"card_group\">\n",
       "        \n",
       "        <div class=\"card\">\n",
       "            <div class=\"card_title\">\n",
       "                总市值\n",
       "            </div>\n",
       "            <div class=\"card_big\">\n",
       "              81.42万亿\n",
       "            </div>\n",
       "        </div>\n",
       "        \n",
       "        <div class=\"card\">\n",
       "            <div class=\"card_title\">\n",
       "                总利润\n",
       "            </div>\n",
       "            <div class=\"card_big\">\n",
       "              3.28万亿\n",
       "            </div>\n",
       "        </div>\n",
       "        \n",
       "        <div class=\"card\">\n",
       "            <div class=\"card_title\">\n",
       "                市场PE\n",
       "            </div>\n",
       "            <div class=\"card_big\">\n",
       "              24.8\n",
       "            </div>\n",
       "        </div>\n",
       "        \n",
       "    </div>\n",
       "    \n",
       "</body>\n",
       "</html>"
      ],
      "text/plain": [
       "<IPython.core.display.HTML object>"
      ]
     },
     "metadata": {},
     "output_type": "display_data"
    }
   ],
   "source": [
    "fins = ['银行', '商行', '保险', '太保','人保', '证券','平安', '中信']\n",
    "no_banks = de_bank(df,fins)"
   ]
  },
  {
   "cell_type": "code",
   "execution_count": 14,
   "metadata": {
    "tags": [
     "remove_input"
    ]
   },
   "outputs": [],
   "source": [
    "def rank(df:pd.DataFrame, col:str):\n",
    "    res = df[df[col]>0]\n",
    "    res = res.sort_values(col, ascending=0)\n",
    "    res[f'{col}_rk'] = [i+1 for i in range(res.shape[0])]\n",
    "    col_sum = res[col].sum()\n",
    "    res[f'{col}_cumpct'] = res[col].cumsum() / col_sum\n",
    "    bins = [(i+1)/10 for i in range(9)]\n",
    "    res_ls = [res[res[f'{col}_cumpct']>=i].iloc[0,] for i in\n",
    "     bins]\n",
    "    bined_df = pd.DataFrame(res_ls)\n",
    "    bined_df['rkpct'] = bined_df[f'{col}_rk'] / res.shape[0]\n",
    "    return bined_df[[f'{col}_rk', 'rkpct', f'{col}_cumpct', col]]"
   ]
  },
  {
   "cell_type": "markdown",
   "metadata": {
    "tags": [
     "remove_input"
    ]
   },
   "source": [
    "## 集中度"
   ]
  },
  {
   "cell_type": "code",
   "execution_count": 15,
   "metadata": {
    "tags": [
     "remove_input"
    ]
   },
   "outputs": [
    {
     "data": {
      "text/html": [
       "<div>\n",
       "<style scoped>\n",
       "    .dataframe tbody tr th:only-of-type {\n",
       "        vertical-align: middle;\n",
       "    }\n",
       "\n",
       "    .dataframe tbody tr th {\n",
       "        vertical-align: top;\n",
       "    }\n",
       "\n",
       "    .dataframe thead th {\n",
       "        text-align: right;\n",
       "    }\n",
       "</style>\n",
       "<table border=\"1\" class=\"dataframe\">\n",
       "  <thead>\n",
       "    <tr style=\"text-align: right;\">\n",
       "      <th></th>\n",
       "      <th>profit_rk</th>\n",
       "      <th>rkpct</th>\n",
       "      <th>profit_cumpct</th>\n",
       "      <th>profit</th>\n",
       "    </tr>\n",
       "  </thead>\n",
       "  <tbody>\n",
       "    <tr>\n",
       "      <th>953</th>\n",
       "      <td>2</td>\n",
       "      <td>0.000486</td>\n",
       "      <td>0.111797</td>\n",
       "      <td>3.408067e+11</td>\n",
       "    </tr>\n",
       "    <tr>\n",
       "      <th>955</th>\n",
       "      <td>5</td>\n",
       "      <td>0.001214</td>\n",
       "      <td>0.223161</td>\n",
       "      <td>1.766416e+11</td>\n",
       "    </tr>\n",
       "    <tr>\n",
       "      <th>545</th>\n",
       "      <td>9</td>\n",
       "      <td>0.002185</td>\n",
       "      <td>0.321180</td>\n",
       "      <td>1.478631e+11</td>\n",
       "    </tr>\n",
       "    <tr>\n",
       "      <th>1843</th>\n",
       "      <td>14</td>\n",
       "      <td>0.003399</td>\n",
       "      <td>0.400648</td>\n",
       "      <td>8.109368e+10</td>\n",
       "    </tr>\n",
       "    <tr>\n",
       "      <th>2840</th>\n",
       "      <td>26</td>\n",
       "      <td>0.006312</td>\n",
       "      <td>0.501999</td>\n",
       "      <td>4.225534e+10</td>\n",
       "    </tr>\n",
       "    <tr>\n",
       "      <th>1825</th>\n",
       "      <td>49</td>\n",
       "      <td>0.011896</td>\n",
       "      <td>0.602427</td>\n",
       "      <td>1.847309e+10</td>\n",
       "    </tr>\n",
       "    <tr>\n",
       "      <th>1860</th>\n",
       "      <td>105</td>\n",
       "      <td>0.025492</td>\n",
       "      <td>0.700719</td>\n",
       "      <td>6.645026e+09</td>\n",
       "    </tr>\n",
       "    <tr>\n",
       "      <th>2958</th>\n",
       "      <td>257</td>\n",
       "      <td>0.062394</td>\n",
       "      <td>0.800035</td>\n",
       "      <td>2.632304e+09</td>\n",
       "    </tr>\n",
       "    <tr>\n",
       "      <th>2628</th>\n",
       "      <td>686</td>\n",
       "      <td>0.166545</td>\n",
       "      <td>0.900037</td>\n",
       "      <td>8.399627e+08</td>\n",
       "    </tr>\n",
       "  </tbody>\n",
       "</table>\n",
       "</div>"
      ],
      "text/plain": [
       "      profit_rk     rkpct  profit_cumpct        profit\n",
       "953           2  0.000486       0.111797  3.408067e+11\n",
       "955           5  0.001214       0.223161  1.766416e+11\n",
       "545           9  0.002185       0.321180  1.478631e+11\n",
       "1843         14  0.003399       0.400648  8.109368e+10\n",
       "2840         26  0.006312       0.501999  4.225534e+10\n",
       "1825         49  0.011896       0.602427  1.847309e+10\n",
       "1860        105  0.025492       0.700719  6.645026e+09\n",
       "2958        257  0.062394       0.800035  2.632304e+09\n",
       "2628        686  0.166545       0.900037  8.399627e+08"
      ]
     },
     "execution_count": 15,
     "metadata": {},
     "output_type": "execute_result"
    }
   ],
   "source": [
    "pro_df = rank(df, 'profit')\n",
    "pro_df"
   ]
  },
  {
   "cell_type": "markdown",
   "metadata": {
    "tags": [
     "remove_input"
    ]
   },
   "source": [
    "- 利润数据除去了亏损企业。\n",
    "- 利润高度集中，80%的利润集中在前6%（257家）企业中。"
   ]
  },
  {
   "cell_type": "code",
   "execution_count": 16,
   "metadata": {
    "tags": [
     "remove_input"
    ]
   },
   "outputs": [
    {
     "data": {
      "text/html": [
       "<div>\n",
       "<style scoped>\n",
       "    .dataframe tbody tr th:only-of-type {\n",
       "        vertical-align: middle;\n",
       "    }\n",
       "\n",
       "    .dataframe tbody tr th {\n",
       "        vertical-align: top;\n",
       "    }\n",
       "\n",
       "    .dataframe thead th {\n",
       "        text-align: right;\n",
       "    }\n",
       "</style>\n",
       "<table border=\"1\" class=\"dataframe\">\n",
       "  <thead>\n",
       "    <tr style=\"text-align: right;\">\n",
       "      <th></th>\n",
       "      <th>asset_rk</th>\n",
       "      <th>rkpct</th>\n",
       "      <th>asset_cumpct</th>\n",
       "      <th>asset</th>\n",
       "    </tr>\n",
       "  </thead>\n",
       "  <tbody>\n",
       "    <tr>\n",
       "      <th>953</th>\n",
       "      <td>2</td>\n",
       "      <td>0.000376</td>\n",
       "      <td>0.107215</td>\n",
       "      <td>3.142995e+12</td>\n",
       "    </tr>\n",
       "    <tr>\n",
       "      <th>955</th>\n",
       "      <td>5</td>\n",
       "      <td>0.000939</td>\n",
       "      <td>0.208444</td>\n",
       "      <td>1.484503e+12</td>\n",
       "    </tr>\n",
       "    <tr>\n",
       "      <th>662</th>\n",
       "      <td>11</td>\n",
       "      <td>0.002067</td>\n",
       "      <td>0.301459</td>\n",
       "      <td>8.182371e+11</td>\n",
       "    </tr>\n",
       "    <tr>\n",
       "      <th>1811</th>\n",
       "      <td>23</td>\n",
       "      <td>0.004322</td>\n",
       "      <td>0.403079</td>\n",
       "      <td>2.956575e+11</td>\n",
       "    </tr>\n",
       "    <tr>\n",
       "      <th>611</th>\n",
       "      <td>51</td>\n",
       "      <td>0.009583</td>\n",
       "      <td>0.500445</td>\n",
       "      <td>1.532785e+11</td>\n",
       "    </tr>\n",
       "    <tr>\n",
       "      <th>3831</th>\n",
       "      <td>120</td>\n",
       "      <td>0.022548</td>\n",
       "      <td>0.600914</td>\n",
       "      <td>5.885213e+10</td>\n",
       "    </tr>\n",
       "    <tr>\n",
       "      <th>4354</th>\n",
       "      <td>285</td>\n",
       "      <td>0.053551</td>\n",
       "      <td>0.700155</td>\n",
       "      <td>2.607965e+10</td>\n",
       "    </tr>\n",
       "    <tr>\n",
       "      <th>4404</th>\n",
       "      <td>652</td>\n",
       "      <td>0.122510</td>\n",
       "      <td>0.800094</td>\n",
       "      <td>1.166478e+10</td>\n",
       "    </tr>\n",
       "    <tr>\n",
       "      <th>3543</th>\n",
       "      <td>1573</td>\n",
       "      <td>0.295566</td>\n",
       "      <td>0.900023</td>\n",
       "      <td>4.204618e+09</td>\n",
       "    </tr>\n",
       "  </tbody>\n",
       "</table>\n",
       "</div>"
      ],
      "text/plain": [
       "      asset_rk     rkpct  asset_cumpct         asset\n",
       "953          2  0.000376      0.107215  3.142995e+12\n",
       "955          5  0.000939      0.208444  1.484503e+12\n",
       "662         11  0.002067      0.301459  8.182371e+11\n",
       "1811        23  0.004322      0.403079  2.956575e+11\n",
       "611         51  0.009583      0.500445  1.532785e+11\n",
       "3831       120  0.022548      0.600914  5.885213e+10\n",
       "4354       285  0.053551      0.700155  2.607965e+10\n",
       "4404       652  0.122510      0.800094  1.166478e+10\n",
       "3543      1573  0.295566      0.900023  4.204618e+09"
      ]
     },
     "execution_count": 16,
     "metadata": {},
     "output_type": "execute_result"
    }
   ],
   "source": [
    "as_df = rank(df, 'asset')\n",
    "as_df"
   ]
  },
  {
   "cell_type": "markdown",
   "metadata": {
    "tags": [
     "remove_input"
    ]
   },
   "source": [
    "- 净资产也高度集中，80%的净资产集中在前12%（658家）企业中。\n",
    "- 集中度较净利润低。"
   ]
  },
  {
   "cell_type": "code",
   "execution_count": 17,
   "metadata": {
    "tags": [
     "remove_input"
    ]
   },
   "outputs": [
    {
     "data": {
      "text/html": [
       "<div>\n",
       "<style scoped>\n",
       "    .dataframe tbody tr th:only-of-type {\n",
       "        vertical-align: middle;\n",
       "    }\n",
       "\n",
       "    .dataframe tbody tr th {\n",
       "        vertical-align: top;\n",
       "    }\n",
       "\n",
       "    .dataframe thead th {\n",
       "        text-align: right;\n",
       "    }\n",
       "</style>\n",
       "<table border=\"1\" class=\"dataframe\">\n",
       "  <thead>\n",
       "    <tr style=\"text-align: right;\">\n",
       "      <th></th>\n",
       "      <th>mv_rk</th>\n",
       "      <th>rkpct</th>\n",
       "      <th>mv_cumpct</th>\n",
       "      <th>mv</th>\n",
       "    </tr>\n",
       "  </thead>\n",
       "  <tbody>\n",
       "    <tr>\n",
       "      <th>866</th>\n",
       "      <td>5</td>\n",
       "      <td>0.000934</td>\n",
       "      <td>0.101589</td>\n",
       "      <td>1.644920e+12</td>\n",
       "    </tr>\n",
       "    <tr>\n",
       "      <th>541</th>\n",
       "      <td>14</td>\n",
       "      <td>0.002614</td>\n",
       "      <td>0.204877</td>\n",
       "      <td>7.975224e+11</td>\n",
       "    </tr>\n",
       "    <tr>\n",
       "      <th>4527</th>\n",
       "      <td>35</td>\n",
       "      <td>0.006535</td>\n",
       "      <td>0.302660</td>\n",
       "      <td>2.833368e+11</td>\n",
       "    </tr>\n",
       "    <tr>\n",
       "      <th>3171</th>\n",
       "      <td>83</td>\n",
       "      <td>0.015497</td>\n",
       "      <td>0.401416</td>\n",
       "      <td>1.571733e+11</td>\n",
       "    </tr>\n",
       "    <tr>\n",
       "      <th>5013</th>\n",
       "      <td>167</td>\n",
       "      <td>0.031180</td>\n",
       "      <td>0.500274</td>\n",
       "      <td>8.613902e+10</td>\n",
       "    </tr>\n",
       "    <tr>\n",
       "      <th>1416</th>\n",
       "      <td>336</td>\n",
       "      <td>0.062733</td>\n",
       "      <td>0.600265</td>\n",
       "      <td>4.285628e+10</td>\n",
       "    </tr>\n",
       "    <tr>\n",
       "      <th>3267</th>\n",
       "      <td>657</td>\n",
       "      <td>0.122666</td>\n",
       "      <td>0.700121</td>\n",
       "      <td>2.355889e+10</td>\n",
       "    </tr>\n",
       "    <tr>\n",
       "      <th>2197</th>\n",
       "      <td>1236</td>\n",
       "      <td>0.230769</td>\n",
       "      <td>0.800071</td>\n",
       "      <td>1.265477e+10</td>\n",
       "    </tr>\n",
       "    <tr>\n",
       "      <th>4641</th>\n",
       "      <td>2388</td>\n",
       "      <td>0.445855</td>\n",
       "      <td>0.900029</td>\n",
       "      <td>5.932601e+09</td>\n",
       "    </tr>\n",
       "  </tbody>\n",
       "</table>\n",
       "</div>"
      ],
      "text/plain": [
       "      mv_rk     rkpct  mv_cumpct            mv\n",
       "866       5  0.000934   0.101589  1.644920e+12\n",
       "541      14  0.002614   0.204877  7.975224e+11\n",
       "4527     35  0.006535   0.302660  2.833368e+11\n",
       "3171     83  0.015497   0.401416  1.571733e+11\n",
       "5013    167  0.031180   0.500274  8.613902e+10\n",
       "1416    336  0.062733   0.600265  4.285628e+10\n",
       "3267    657  0.122666   0.700121  2.355889e+10\n",
       "2197   1236  0.230769   0.800071  1.265477e+10\n",
       "4641   2388  0.445855   0.900029  5.932601e+09"
      ]
     },
     "execution_count": 17,
     "metadata": {},
     "output_type": "execute_result"
    }
   ],
   "source": [
    "mv_df = rank(df, 'mv')\n",
    "mv_df"
   ]
  },
  {
   "cell_type": "markdown",
   "metadata": {
    "tags": [
     "remove_input"
    ]
   },
   "source": [
    "- 相比较而言，市值的集中度将利润和净资产更分散。\n",
    "- 总体而言符合二八定律，前23%的企业集中了80%的市值。"
   ]
  },
  {
   "cell_type": "code",
   "execution_count": 18,
   "metadata": {
    "tags": [
     "remove_input"
    ]
   },
   "outputs": [],
   "source": [
    "import nbformat as nbf\n",
    "from pathlib import Path\n",
    "def remove_input():\n",
    "    fn = 'dailydata.ipynb'\n",
    "    nb = nbf.read(fn, nbf.NO_CONVERT)\n",
    "    for cell in nb.cells:\n",
    "        cell_tags = cell.get('metadata', {}).get('tags', [])\n",
    "        if not 'remove_input' in cell_tags:\n",
    "            cell_tags.append('remove_input')\n",
    "            cell['metadata']['tags'] = cell_tags\n",
    "    nbf.write(nb, fn)\n",
    "remove_input()"
   ]
  }
 ],
 "metadata": {
  "kernelspec": {
   "display_name": ".venv",
   "language": "python",
   "name": "python3"
  },
  "language_info": {
   "codemirror_mode": {
    "name": "ipython",
    "version": 3
   },
   "file_extension": ".py",
   "mimetype": "text/x-python",
   "name": "python",
   "nbconvert_exporter": "python",
   "pygments_lexer": "ipython3",
   "version": "3.12.3"
  }
 },
 "nbformat": 4,
 "nbformat_minor": 2
}
