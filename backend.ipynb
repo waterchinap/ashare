{
 "cells": [
  {
   "cell_type": "code",
   "execution_count": null,
   "metadata": {},
   "outputs": [],
   "source": [
    "import json\n",
    "import pandas as pd\n",
    "import numpy as np\n",
    "from pathlib import Path\n",
    "from IPython.display import HTML\n",
    "import frontmatter"
   ]
  },
  {
   "cell_type": "code",
   "execution_count": null,
   "metadata": {},
   "outputs": [],
   "source": [
    "df = pd.read_pickle('tidy_events.pkl.gz')"
   ]
  },
  {
   "cell_type": "code",
   "execution_count": null,
   "metadata": {},
   "outputs": [],
   "source": [
    "def df_to_json(df:pd.DataFrame, fn:str):\n",
    "    \"\"\"将带有日期的df转成多级json\n",
    "    df.index: a str format data, eg '1969-04-21'\n",
    "    to_dict make this as key.\n",
    "    then break the key into year and month and put dates into\n",
    "    \"\"\"\n",
    "    # 原始字典\n",
    "    original_dict = df.to_dict('index')\n",
    "\n",
    "    # 转换后的字典\n",
    "    nested_dict = {}\n",
    "\n",
    "    for date_key, inner_dict in original_dict.items():\n",
    "        year, month, day = date_key.split('-')\n",
    "        \n",
    "        if year not in nested_dict:\n",
    "            nested_dict[year] = {}\n",
    "        \n",
    "        if month not in nested_dict[year]:\n",
    "            nested_dict[year][month] = {}\n",
    "        \n",
    "        nested_dict[year][month][date_key] = inner_dict\n",
    "\n",
    "    # 将多级字典存储为 JSON 文件\n",
    "    with open(fn, 'w') as json_file:\n",
    "        json.dump(nested_dict, json_file, indent=4)\n",
    "\n",
    "    print(f\"多级字典已成功存储为{fn}文件\")"
   ]
  },
  {
   "cell_type": "code",
   "execution_count": null,
   "metadata": {},
   "outputs": [],
   "source": [
    "df_to_json(df, 'events.json')"
   ]
  },
  {
   "cell_type": "code",
   "execution_count": null,
   "metadata": {},
   "outputs": [],
   "source": [
    "def add_fm(folder):\n",
    "    meta = {\n",
    "    'layout':'../../layouts/Layout.astro'\n",
    "}\n",
    "    folder = Path(folder)\n",
    "    fs = folder.glob('*.md')\n",
    "    for f in fs:\n",
    "        post = frontmatter.load(f)\n",
    "        post.metadata = meta\n",
    "        frontmatter.dump(post, f)\n",
    "    print('done!')\n"
   ]
  },
  {
   "cell_type": "code",
   "execution_count": null,
   "metadata": {},
   "outputs": [],
   "source": [
    "def create_urls():\n",
    "    htmls_d = Path('src/components/htmls')\n",
    "    url_d = Path('src/pages/reports')\n",
    "    url_d.mkdir(exist_ok=True)\n",
    "\n",
    "    def make_report(out_d, stem):\n",
    "        out_fn = out_d / f\"{stem}.astro\"  # 使用 f-string 简化文件名拼接\n",
    "\n",
    "        report = f\"\"\"---\n",
    "    import Report from '@/components/htmls/{stem}.html'\n",
    "    import Layout from '@/layouts/Layout.astro'\n",
    "    ---\n",
    "    <Layout title='{stem}'>\n",
    "        <Report />\n",
    "    </Layout>\n",
    "\n",
    "    \"\"\"\n",
    "        # print(f'report: {report}')  # 打印替换后的内容\n",
    "\n",
    "        # 将修改后的内容写入新文件\n",
    "        with open(out_fn, 'w', encoding='utf-8') as file:\n",
    "            file.write(report)\n",
    "\n",
    "    fs = htmls_d.glob('*.html')\n",
    "    for f in fs:\n",
    "        stem = str(f.stem)\n",
    "        print(f'url:{stem}')\n",
    "        make_report(url_d, stem)\n"
   ]
  },
  {
   "cell_type": "code",
   "execution_count": null,
   "metadata": {},
   "outputs": [],
   "source": [
    "lable_css = \"\"\"\n",
    "<style>\n",
    "    .mylab-group {\n",
    "        display: flex;\n",
    "        flex-flow: row wrap;\n",
    "    }\n",
    "    .mylab {\n",
    "        display:flex;\n",
    "        justify-content: center;\n",
    "        border: 1px solid #ccc;\n",
    "        border-radius: 5px;\n",
    "        padding: 2px;\n",
    "        margin: 2px;\n",
    "        width: 5em;\n",
    "        background-color: #f9f9f9;\n",
    "    }\n",
    "    .mylab p {\n",
    "        color: #666;\n",
    "        font-size: 0.8em;\n",
    "        margin: 0;\n",
    "    }\n",
    "</style>\n",
    "\"\"\"\n",
    "\n",
    "def s_to_lable(s, title=None):\n",
    "    \"\"\"\n",
    "    s可以为列表或者pd.Series\n",
    "    \"\"\"\n",
    "    def create_lable(title):\n",
    "        \n",
    "        card_html = f\"\"\"\n",
    "        <div class='mylab'>\n",
    "            <p>{title}</p>\n",
    "        </div>\n",
    "        \"\"\"\n",
    "        return card_html\n",
    "\n",
    "    def create_lable_group(cards_html):\n",
    "        card_group_html = f\"\"\"\n",
    "        <div class='mylab-group'>\n",
    "            {cards_html}\n",
    "        </div>\n",
    "        \"\"\"\n",
    "        return card_group_html\n",
    "    title_html = f'<h2>{title}</h2>\\n' if title else \"\"\n",
    "    labs = [create_lable(i) for i in s]\n",
    "    labs_html = ''.join(labs)\n",
    "    group_html = create_lable_group(labs_html) + lable_css\n",
    "    display(HTML(title_html+group_html))\n",
    "    # return group_html"
   ]
  },
  {
   "cell_type": "code",
   "execution_count": null,
   "metadata": {},
   "outputs": [],
   "source": [
    "# test = pd.Series(range(10), name='num')\n",
    "test = pd.Series(['中国银行']*10, name='num')\n",
    "s_to_lable(test, 'this is title')"
   ]
  },
  {
   "cell_type": "code",
   "execution_count": null,
   "metadata": {},
   "outputs": [],
   "source": [
    "s_to_lable(['中国银行']*10)"
   ]
  },
  {
   "cell_type": "code",
   "execution_count": null,
   "metadata": {},
   "outputs": [],
   "source": []
  }
 ],
 "metadata": {
  "kernelspec": {
   "display_name": ".venv",
   "language": "python",
   "name": "python3"
  },
  "language_info": {
   "codemirror_mode": {
    "name": "ipython",
    "version": 3
   },
   "file_extension": ".py",
   "mimetype": "text/x-python",
   "name": "python",
   "nbconvert_exporter": "python",
   "pygments_lexer": "ipython3",
   "version": "3.12.3"
  }
 },
 "nbformat": 4,
 "nbformat_minor": 2
}
