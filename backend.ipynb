{
 "cells": [
  {
   "cell_type": "code",
   "execution_count": 48,
   "metadata": {},
   "outputs": [],
   "source": [
    "import pandas as pd\n",
    "from pathlib import Path"
   ]
  },
  {
   "cell_type": "code",
   "execution_count": null,
   "metadata": {},
   "outputs": [],
   "source": [
    "def create_urls():\n",
    "    htmls_d = Path('src/components/htmls')\n",
    "    url_d = Path('src/pages/reports')\n",
    "    url_d.mkdir(exist_ok=True)\n",
    "\n",
    "    def make_report(out_d, stem):\n",
    "        out_fn = out_d / f\"{stem}.astro\"  # 使用 f-string 简化文件名拼接\n",
    "\n",
    "        report = f\"\"\"---\n",
    "    import Report from '@/components/htmls/{stem}.html'\n",
    "    import Layout from '@/layouts/Layout.astro'\n",
    "    ---\n",
    "    <Layout title='{stem}'>\n",
    "        <Report />\n",
    "    </Layout>\n",
    "\n",
    "    \"\"\"\n",
    "        # print(f'report: {report}')  # 打印替换后的内容\n",
    "\n",
    "        # 将修改后的内容写入新文件\n",
    "        with open(out_fn, 'w', encoding='utf-8') as file:\n",
    "            file.write(report)\n",
    "\n",
    "    fs = htmls_d.glob('*.html')\n",
    "    for f in fs:\n",
    "        stem = str(f.stem)\n",
    "        print(f'url:{stem}')\n",
    "        make_report(url_d, stem)\n"
   ]
  },
  {
   "cell_type": "code",
   "execution_count": null,
   "metadata": {},
   "outputs": [],
   "source": []
  }
 ],
 "metadata": {
  "kernelspec": {
   "display_name": ".venv",
   "language": "python",
   "name": "python3"
  },
  "language_info": {
   "codemirror_mode": {
    "name": "ipython",
    "version": 3
   },
   "file_extension": ".py",
   "mimetype": "text/x-python",
   "name": "python",
   "nbconvert_exporter": "python",
   "pygments_lexer": "ipython3",
   "version": "3.12.3"
  }
 },
 "nbformat": 4,
 "nbformat_minor": 2
}
