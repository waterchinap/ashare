{
 "cells": [
  {
   "cell_type": "code",
   "execution_count": 2,
   "metadata": {},
   "outputs": [],
   "source": [
    "import pandas as pd\n",
    "from pathlib import Path\n",
    "from IPython.display import HTML"
   ]
  },
  {
   "cell_type": "code",
   "execution_count": 3,
   "metadata": {},
   "outputs": [],
   "source": [
    "ww = pd.date_range(start='1939-01-01', end='1945-12-31')\n",
    "df = pd.DataFrame(ww, columns=['ww'])\n",
    "df['days'] = (df['ww'] - pd.to_datetime('1939-09-01'))\n",
    "df['ru'] = pd.to_datetime('2022-02-24') + df['days']\n"
   ]
  },
  {
   "cell_type": "code",
   "execution_count": 17,
   "metadata": {},
   "outputs": [],
   "source": [
    "events = pd.read_pickle('events.pkl.gz')"
   ]
  },
  {
   "cell_type": "code",
   "execution_count": 23,
   "metadata": {},
   "outputs": [],
   "source": [
    "mergedf = df.merge(events[['start', '事件']], left_on='ww', right_on='start', how='left')"
   ]
  },
  {
   "cell_type": "code",
   "execution_count": 30,
   "metadata": {},
   "outputs": [],
   "source": [
    "events_end = events[events['start'] != events['end']].copy()\n",
    "events_end['事件'] = events_end['事件'] + '结束'"
   ]
  },
  {
   "cell_type": "code",
   "execution_count": 32,
   "metadata": {},
   "outputs": [],
   "source": [
    "mergedf = mergedf.merge(events_end[['end', '事件']], left_on='ww', right_on='end', how='left')"
   ]
  },
  {
   "cell_type": "code",
   "execution_count": 49,
   "metadata": {},
   "outputs": [],
   "source": [
    "mergedf['event'] = (mergedf['事件_x'] + '开始。').fillna('') + (mergedf['事件_y']+'。').fillna('')"
   ]
  },
  {
   "cell_type": "code",
   "execution_count": 51,
   "metadata": {},
   "outputs": [],
   "source": [
    "mergedf.to_pickle('expanded_events.pkl.gz')"
   ]
  },
  {
   "cell_type": "code",
   "execution_count": 4,
   "metadata": {},
   "outputs": [],
   "source": [
    "def create_urls():\n",
    "    htmls_d = Path('src/components/htmls')\n",
    "    url_d = Path('src/pages/reports')\n",
    "    url_d.mkdir(exist_ok=True)\n",
    "\n",
    "    def make_report(out_d, stem):\n",
    "        out_fn = out_d / f\"{stem}.astro\"  # 使用 f-string 简化文件名拼接\n",
    "\n",
    "        report = f\"\"\"---\n",
    "    import Report from '@/components/htmls/{stem}.html'\n",
    "    import Layout from '@/layouts/Layout.astro'\n",
    "    ---\n",
    "    <Layout title='{stem}'>\n",
    "        <Report />\n",
    "    </Layout>\n",
    "\n",
    "    \"\"\"\n",
    "        # print(f'report: {report}')  # 打印替换后的内容\n",
    "\n",
    "        # 将修改后的内容写入新文件\n",
    "        with open(out_fn, 'w', encoding='utf-8') as file:\n",
    "            file.write(report)\n",
    "\n",
    "    fs = htmls_d.glob('*.html')\n",
    "    for f in fs:\n",
    "        stem = str(f.stem)\n",
    "        print(f'url:{stem}')\n",
    "        make_report(url_d, stem)\n"
   ]
  },
  {
   "cell_type": "code",
   "execution_count": null,
   "metadata": {},
   "outputs": [],
   "source": [
    "lable_css = \"\"\"\n",
    "<style>\n",
    "    .mylab-group {\n",
    "        display: flex;\n",
    "        flex-flow: row wrap;\n",
    "    }\n",
    "    .mylab {\n",
    "        display:flex;\n",
    "        justify-content: center;\n",
    "        border: 1px solid #ccc;\n",
    "        border-radius: 5px;\n",
    "        padding: 2px;\n",
    "        margin: 2px;\n",
    "        width: 5em;\n",
    "        background-color: #f9f9f9;\n",
    "    }\n",
    "    .mylab p {\n",
    "        color: #666;\n",
    "        font-size: 0.8em;\n",
    "        margin: 0;\n",
    "    }\n",
    "</style>\n",
    "\"\"\"\n",
    "\n",
    "def s_to_lable(s, title=None):\n",
    "    \"\"\"\n",
    "    s可以为列表或者pd.Series\n",
    "    \"\"\"\n",
    "    def create_lable(title):\n",
    "        \n",
    "        card_html = f\"\"\"\n",
    "        <div class='mylab'>\n",
    "            <p>{title}</p>\n",
    "        </div>\n",
    "        \"\"\"\n",
    "        return card_html\n",
    "\n",
    "    def create_lable_group(cards_html):\n",
    "        card_group_html = f\"\"\"\n",
    "        <div class='mylab-group'>\n",
    "            {cards_html}\n",
    "        </div>\n",
    "        \"\"\"\n",
    "        return card_group_html\n",
    "    title_html = f'<h2>{title}</h2>\\n' if title else \"\"\n",
    "    labs = [create_lable(i) for i in s]\n",
    "    labs_html = ''.join(labs)\n",
    "    group_html = create_lable_group(labs_html) + lable_css\n",
    "    display(HTML(title_html+group_html))\n",
    "    # return group_html"
   ]
  },
  {
   "cell_type": "code",
   "execution_count": 58,
   "metadata": {},
   "outputs": [
    {
     "data": {
      "text/html": [
       "<h2>this is title</h2>\n",
       "\n",
       "        <div class='mylab-group'>\n",
       "            \n",
       "        <div class='mylab'>\n",
       "            <p>中国银行</p>\n",
       "        </div>\n",
       "        \n",
       "        <div class='mylab'>\n",
       "            <p>中国银行</p>\n",
       "        </div>\n",
       "        \n",
       "        <div class='mylab'>\n",
       "            <p>中国银行</p>\n",
       "        </div>\n",
       "        \n",
       "        <div class='mylab'>\n",
       "            <p>中国银行</p>\n",
       "        </div>\n",
       "        \n",
       "        <div class='mylab'>\n",
       "            <p>中国银行</p>\n",
       "        </div>\n",
       "        \n",
       "        <div class='mylab'>\n",
       "            <p>中国银行</p>\n",
       "        </div>\n",
       "        \n",
       "        <div class='mylab'>\n",
       "            <p>中国银行</p>\n",
       "        </div>\n",
       "        \n",
       "        <div class='mylab'>\n",
       "            <p>中国银行</p>\n",
       "        </div>\n",
       "        \n",
       "        <div class='mylab'>\n",
       "            <p>中国银行</p>\n",
       "        </div>\n",
       "        \n",
       "        <div class='mylab'>\n",
       "            <p>中国银行</p>\n",
       "        </div>\n",
       "        \n",
       "        </div>\n",
       "        \n",
       "<style>\n",
       "    .mylab-group {\n",
       "        display: flex;\n",
       "        flex-flow: row wrap;\n",
       "    }\n",
       "    .mylab {\n",
       "        display:flex;\n",
       "        justify-content: center;\n",
       "        border: 1px solid #ccc;\n",
       "        border-radius: 5px;\n",
       "        padding: 2px;\n",
       "        margin: 2px;\n",
       "        width: 5em;\n",
       "        background-color: #f9f9f9;\n",
       "    }\n",
       "    .mylab p {\n",
       "        color: #666;\n",
       "        font-size: 0.8em;\n",
       "        margin: 0;\n",
       "    }\n",
       "</style>\n"
      ],
      "text/plain": [
       "<IPython.core.display.HTML object>"
      ]
     },
     "metadata": {},
     "output_type": "display_data"
    },
    {
     "data": {
      "text/plain": [
       "\"\\n        <div class='mylab-group'>\\n            \\n        <div class='mylab'>\\n            <p>中国银行</p>\\n        </div>\\n        \\n        <div class='mylab'>\\n            <p>中国银行</p>\\n        </div>\\n        \\n        <div class='mylab'>\\n            <p>中国银行</p>\\n        </div>\\n        \\n        <div class='mylab'>\\n            <p>中国银行</p>\\n        </div>\\n        \\n        <div class='mylab'>\\n            <p>中国银行</p>\\n        </div>\\n        \\n        <div class='mylab'>\\n            <p>中国银行</p>\\n        </div>\\n        \\n        <div class='mylab'>\\n            <p>中国银行</p>\\n        </div>\\n        \\n        <div class='mylab'>\\n            <p>中国银行</p>\\n        </div>\\n        \\n        <div class='mylab'>\\n            <p>中国银行</p>\\n        </div>\\n        \\n        <div class='mylab'>\\n            <p>中国银行</p>\\n        </div>\\n        \\n        </div>\\n        \\n<style>\\n    .mylab-group {\\n        display: flex;\\n        flex-flow: row wrap;\\n    }\\n    .mylab {\\n        display:flex;\\n        justify-content: center;\\n        border: 1px solid #ccc;\\n        border-radius: 5px;\\n        padding: 2px;\\n        margin: 2px;\\n        width: 5em;\\n        background-color: #f9f9f9;\\n    }\\n    .mylab p {\\n        color: #666;\\n        font-size: 0.8em;\\n        margin: 0;\\n    }\\n</style>\\n\""
      ]
     },
     "execution_count": 58,
     "metadata": {},
     "output_type": "execute_result"
    }
   ],
   "source": [
    "# test = pd.Series(range(10), name='num')\n",
    "test = pd.Series(['中国银行']*10, name='num')\n",
    "s_to_lable(test, 'this is title')"
   ]
  },
  {
   "cell_type": "code",
   "execution_count": 59,
   "metadata": {},
   "outputs": [
    {
     "data": {
      "text/html": [
       "\n",
       "        <div class='mylab-group'>\n",
       "            \n",
       "        <div class='mylab'>\n",
       "            <p>中国银行</p>\n",
       "        </div>\n",
       "        \n",
       "        <div class='mylab'>\n",
       "            <p>中国银行</p>\n",
       "        </div>\n",
       "        \n",
       "        <div class='mylab'>\n",
       "            <p>中国银行</p>\n",
       "        </div>\n",
       "        \n",
       "        <div class='mylab'>\n",
       "            <p>中国银行</p>\n",
       "        </div>\n",
       "        \n",
       "        <div class='mylab'>\n",
       "            <p>中国银行</p>\n",
       "        </div>\n",
       "        \n",
       "        <div class='mylab'>\n",
       "            <p>中国银行</p>\n",
       "        </div>\n",
       "        \n",
       "        <div class='mylab'>\n",
       "            <p>中国银行</p>\n",
       "        </div>\n",
       "        \n",
       "        <div class='mylab'>\n",
       "            <p>中国银行</p>\n",
       "        </div>\n",
       "        \n",
       "        <div class='mylab'>\n",
       "            <p>中国银行</p>\n",
       "        </div>\n",
       "        \n",
       "        <div class='mylab'>\n",
       "            <p>中国银行</p>\n",
       "        </div>\n",
       "        \n",
       "        </div>\n",
       "        \n",
       "<style>\n",
       "    .mylab-group {\n",
       "        display: flex;\n",
       "        flex-flow: row wrap;\n",
       "    }\n",
       "    .mylab {\n",
       "        display:flex;\n",
       "        justify-content: center;\n",
       "        border: 1px solid #ccc;\n",
       "        border-radius: 5px;\n",
       "        padding: 2px;\n",
       "        margin: 2px;\n",
       "        width: 5em;\n",
       "        background-color: #f9f9f9;\n",
       "    }\n",
       "    .mylab p {\n",
       "        color: #666;\n",
       "        font-size: 0.8em;\n",
       "        margin: 0;\n",
       "    }\n",
       "</style>\n"
      ],
      "text/plain": [
       "<IPython.core.display.HTML object>"
      ]
     },
     "metadata": {},
     "output_type": "display_data"
    },
    {
     "data": {
      "text/plain": [
       "\"\\n        <div class='mylab-group'>\\n            \\n        <div class='mylab'>\\n            <p>中国银行</p>\\n        </div>\\n        \\n        <div class='mylab'>\\n            <p>中国银行</p>\\n        </div>\\n        \\n        <div class='mylab'>\\n            <p>中国银行</p>\\n        </div>\\n        \\n        <div class='mylab'>\\n            <p>中国银行</p>\\n        </div>\\n        \\n        <div class='mylab'>\\n            <p>中国银行</p>\\n        </div>\\n        \\n        <div class='mylab'>\\n            <p>中国银行</p>\\n        </div>\\n        \\n        <div class='mylab'>\\n            <p>中国银行</p>\\n        </div>\\n        \\n        <div class='mylab'>\\n            <p>中国银行</p>\\n        </div>\\n        \\n        <div class='mylab'>\\n            <p>中国银行</p>\\n        </div>\\n        \\n        <div class='mylab'>\\n            <p>中国银行</p>\\n        </div>\\n        \\n        </div>\\n        \\n<style>\\n    .mylab-group {\\n        display: flex;\\n        flex-flow: row wrap;\\n    }\\n    .mylab {\\n        display:flex;\\n        justify-content: center;\\n        border: 1px solid #ccc;\\n        border-radius: 5px;\\n        padding: 2px;\\n        margin: 2px;\\n        width: 5em;\\n        background-color: #f9f9f9;\\n    }\\n    .mylab p {\\n        color: #666;\\n        font-size: 0.8em;\\n        margin: 0;\\n    }\\n</style>\\n\""
      ]
     },
     "execution_count": 59,
     "metadata": {},
     "output_type": "execute_result"
    }
   ],
   "source": [
    "s_to_lable(['中国银行']*10)"
   ]
  },
  {
   "cell_type": "code",
   "execution_count": null,
   "metadata": {},
   "outputs": [],
   "source": []
  }
 ],
 "metadata": {
  "kernelspec": {
   "display_name": ".venv",
   "language": "python",
   "name": "python3"
  },
  "language_info": {
   "codemirror_mode": {
    "name": "ipython",
    "version": 3
   },
   "file_extension": ".py",
   "mimetype": "text/x-python",
   "name": "python",
   "nbconvert_exporter": "python",
   "pygments_lexer": "ipython3",
   "version": "3.12.3"
  }
 },
 "nbformat": 4,
 "nbformat_minor": 2
}
